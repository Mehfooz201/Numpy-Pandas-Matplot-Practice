{
 "cells": [
  {
   "cell_type": "markdown",
   "id": "befb88bd",
   "metadata": {},
   "source": [
    "# PANDAS\n",
    "    - Data Analysis Library\n",
    "    - Series (Single Dimension)\n",
    "    - DataFrame (Multi Dimensional)\n",
    "    - "
   ]
  },
  {
   "cell_type": "code",
   "execution_count": 49,
   "id": "0db0f53b",
   "metadata": {},
   "outputs": [],
   "source": [
    "import pandas as pd\n",
    "import numpy as np"
   ]
  },
  {
   "cell_type": "markdown",
   "id": "90782386",
   "metadata": {},
   "source": [
    "# SERIES"
   ]
  },
  {
   "cell_type": "code",
   "execution_count": 28,
   "id": "fa9803b6",
   "metadata": {},
   "outputs": [
    {
     "data": {
      "text/plain": [
       "pandas.core.series.Series"
      ]
     },
     "execution_count": 28,
     "metadata": {},
     "output_type": "execute_result"
    }
   ],
   "source": [
    "s1 = pd.Series([1,2,3,4])\n",
    "type(s1)"
   ]
  },
  {
   "cell_type": "code",
   "execution_count": 29,
   "id": "38772c90",
   "metadata": {},
   "outputs": [
    {
     "name": "stdout",
     "output_type": "stream",
     "text": [
      "0    1\n",
      "1    2\n",
      "2    3\n",
      "3    4\n",
      "dtype: int64\n"
     ]
    }
   ],
   "source": [
    "print(s1)"
   ]
  },
  {
   "cell_type": "code",
   "execution_count": 30,
   "id": "5079ab29",
   "metadata": {},
   "outputs": [
    {
     "data": {
      "text/plain": [
       "RangeIndex(start=0, stop=4, step=1)"
      ]
     },
     "execution_count": 30,
     "metadata": {},
     "output_type": "execute_result"
    }
   ],
   "source": [
    "s1.index"
   ]
  },
  {
   "cell_type": "code",
   "execution_count": 31,
   "id": "dc85466b",
   "metadata": {},
   "outputs": [
    {
     "data": {
      "text/plain": [
       "array([1, 2, 3, 4], dtype=int64)"
      ]
     },
     "execution_count": 31,
     "metadata": {},
     "output_type": "execute_result"
    }
   ],
   "source": [
    "s1.values"
   ]
  },
  {
   "cell_type": "code",
   "execution_count": 32,
   "id": "2878e125",
   "metadata": {},
   "outputs": [
    {
     "data": {
      "text/plain": [
       "one      1\n",
       "two      2\n",
       "three    3\n",
       "four     4\n",
       "dtype: int64"
      ]
     },
     "execution_count": 32,
     "metadata": {},
     "output_type": "execute_result"
    }
   ],
   "source": [
    "s1.index = ['one', 'two', 'three', 'four']\n",
    "s1"
   ]
  },
  {
   "cell_type": "code",
   "execution_count": 33,
   "id": "99f50cba",
   "metadata": {},
   "outputs": [
    {
     "data": {
      "text/plain": [
       "1"
      ]
     },
     "execution_count": 33,
     "metadata": {},
     "output_type": "execute_result"
    }
   ],
   "source": [
    "s1['one']"
   ]
  },
  {
   "cell_type": "code",
   "execution_count": 34,
   "id": "83d31413",
   "metadata": {},
   "outputs": [
    {
     "data": {
      "text/plain": [
       "apples     22\n",
       "oranges    33\n",
       "bananas    44\n",
       "gauvas     55\n",
       "four       34\n",
       "dtype: int64"
      ]
     },
     "execution_count": 34,
     "metadata": {},
     "output_type": "execute_result"
    }
   ],
   "source": [
    "s2 = pd.Series([22,33,44,55, 34], index=['apples', 'oranges', 'bananas', 'gauvas', 'four'])\n",
    "s2"
   ]
  },
  {
   "cell_type": "code",
   "execution_count": 35,
   "id": "a4335cde",
   "metadata": {},
   "outputs": [
    {
     "data": {
      "text/plain": [
       "22"
      ]
     },
     "execution_count": 35,
     "metadata": {},
     "output_type": "execute_result"
    }
   ],
   "source": [
    "s2['apples']"
   ]
  },
  {
   "cell_type": "code",
   "execution_count": 36,
   "id": "827db13b",
   "metadata": {},
   "outputs": [
    {
     "data": {
      "text/plain": [
       "one      1\n",
       "two      2\n",
       "three    3\n",
       "four     4\n",
       "dtype: int64"
      ]
     },
     "execution_count": 36,
     "metadata": {},
     "output_type": "execute_result"
    }
   ],
   "source": [
    "s1"
   ]
  },
  {
   "cell_type": "code",
   "execution_count": 37,
   "id": "3f19355b",
   "metadata": {},
   "outputs": [
    {
     "data": {
      "text/plain": [
       "apples     22\n",
       "oranges    33\n",
       "bananas    44\n",
       "gauvas     55\n",
       "four       34\n",
       "dtype: int64"
      ]
     },
     "execution_count": 37,
     "metadata": {},
     "output_type": "execute_result"
    }
   ],
   "source": [
    "s2"
   ]
  },
  {
   "cell_type": "code",
   "execution_count": 40,
   "id": "c93976c3",
   "metadata": {},
   "outputs": [
    {
     "data": {
      "text/plain": [
       "apples      NaN\n",
       "bananas     NaN\n",
       "four       38.0\n",
       "gauvas      NaN\n",
       "one         NaN\n",
       "oranges     NaN\n",
       "three       NaN\n",
       "two         NaN\n",
       "dtype: float64"
      ]
     },
     "execution_count": 40,
     "metadata": {},
     "output_type": "execute_result"
    }
   ],
   "source": [
    "s1 + s2\n"
   ]
  },
  {
   "cell_type": "code",
   "execution_count": 41,
   "id": "0a1708dc",
   "metadata": {},
   "outputs": [
    {
     "data": {
      "text/plain": [
       "0    0\n",
       "1    1\n",
       "2    2\n",
       "3    3\n",
       "4    4\n",
       "5    5\n",
       "6    6\n",
       "7    7\n",
       "8    8\n",
       "9    9\n",
       "dtype: int64"
      ]
     },
     "execution_count": 41,
     "metadata": {},
     "output_type": "execute_result"
    }
   ],
   "source": [
    "s3 = pd.Series(range(10))\n",
    "s3"
   ]
  },
  {
   "cell_type": "code",
   "execution_count": 47,
   "id": "337b8dfb",
   "metadata": {},
   "outputs": [
    {
     "data": {
      "text/plain": [
       "0     10\n",
       "1     11\n",
       "2     12\n",
       "3     13\n",
       "4     14\n",
       "5     15\n",
       "6     16\n",
       "7     17\n",
       "8     18\n",
       "9     19\n",
       "10    20\n",
       "dtype: int64"
      ]
     },
     "execution_count": 47,
     "metadata": {},
     "output_type": "execute_result"
    }
   ],
   "source": [
    "s4 = pd.Series(range(10,21))\n",
    "s4"
   ]
  },
  {
   "cell_type": "code",
   "execution_count": 48,
   "id": "260e6a54",
   "metadata": {},
   "outputs": [
    {
     "data": {
      "text/plain": [
       "0     10.0\n",
       "1     12.0\n",
       "2     14.0\n",
       "3     16.0\n",
       "4     18.0\n",
       "5     20.0\n",
       "6     22.0\n",
       "7     24.0\n",
       "8     26.0\n",
       "9     28.0\n",
       "10     NaN\n",
       "dtype: float64"
      ]
     },
     "execution_count": 48,
     "metadata": {},
     "output_type": "execute_result"
    }
   ],
   "source": [
    "s3+s4"
   ]
  },
  {
   "cell_type": "code",
   "execution_count": 51,
   "id": "e6c17fa4",
   "metadata": {},
   "outputs": [
    {
     "data": {
      "text/plain": [
       "array([0, 1, 2, 3, 4])"
      ]
     },
     "execution_count": 51,
     "metadata": {},
     "output_type": "execute_result"
    }
   ],
   "source": [
    "arr1 = np.arange(5)\n",
    "arr1"
   ]
  },
  {
   "cell_type": "code",
   "execution_count": 53,
   "id": "b818d699",
   "metadata": {},
   "outputs": [
    {
     "data": {
      "text/plain": [
       "array([0, 1, 2, 3, 4, 5])"
      ]
     },
     "execution_count": 53,
     "metadata": {},
     "output_type": "execute_result"
    }
   ],
   "source": [
    "arr2 = np.arange(6)\n",
    "arr2"
   ]
  },
  {
   "cell_type": "code",
   "execution_count": 54,
   "id": "3debdf0a",
   "metadata": {},
   "outputs": [
    {
     "ename": "ValueError",
     "evalue": "operands could not be broadcast together with shapes (5,) (6,) ",
     "output_type": "error",
     "traceback": [
      "\u001b[1;31m---------------------------------------------------------------------------\u001b[0m",
      "\u001b[1;31mValueError\u001b[0m                                Traceback (most recent call last)",
      "\u001b[1;32m~\\AppData\\Local\\Temp/ipykernel_15836/1055238803.py\u001b[0m in \u001b[0;36m<module>\u001b[1;34m\u001b[0m\n\u001b[1;32m----> 1\u001b[1;33m \u001b[0marr1\u001b[0m \u001b[1;33m+\u001b[0m \u001b[0marr2\u001b[0m\u001b[1;33m\u001b[0m\u001b[1;33m\u001b[0m\u001b[0m\n\u001b[0m",
      "\u001b[1;31mValueError\u001b[0m: operands could not be broadcast together with shapes (5,) (6,) "
     ]
    }
   ],
   "source": [
    "arr1 + arr2"
   ]
  },
  {
   "cell_type": "code",
   "execution_count": 55,
   "id": "5e14567e",
   "metadata": {},
   "outputs": [
    {
     "data": {
      "text/plain": [
       "bananas    44\n",
       "gauvas     55\n",
       "dtype: int64"
      ]
     },
     "execution_count": 55,
     "metadata": {},
     "output_type": "execute_result"
    }
   ],
   "source": [
    "s2[2:4]"
   ]
  },
  {
   "cell_type": "code",
   "execution_count": 59,
   "id": "4dfed002",
   "metadata": {},
   "outputs": [
    {
     "data": {
      "text/plain": [
       "oranges    33\n",
       "bananas    44\n",
       "gauvas     55\n",
       "dtype: int64"
      ]
     },
     "execution_count": 59,
     "metadata": {},
     "output_type": "execute_result"
    }
   ],
   "source": [
    "s2['oranges':'gauvas']"
   ]
  },
  {
   "cell_type": "markdown",
   "id": "fbc5c156",
   "metadata": {},
   "source": [
    "# Lambda Functions: Anonymous Functions (IIF)"
   ]
  },
  {
   "cell_type": "code",
   "execution_count": 79,
   "id": "f0d6f75f",
   "metadata": {},
   "outputs": [
    {
     "data": {
      "text/plain": [
       "Ahmed       99\n",
       "Ali        100\n",
       "Faisal      50\n",
       "Hassan      45\n",
       "Mehfooz     30\n",
       "wajid       30\n",
       "dtype: int64"
      ]
     },
     "execution_count": 79,
     "metadata": {},
     "output_type": "execute_result"
    }
   ],
   "source": [
    "new = pd.Series([99, 100, 50, 45, 30, 30], index=['Ahmed', 'Ali', 'Faisal', 'Hassan', 'Mehfooz', 'wajid'])\n",
    "new"
   ]
  },
  {
   "cell_type": "code",
   "execution_count": 66,
   "id": "c9798e3d",
   "metadata": {},
   "outputs": [
    {
     "data": {
      "text/plain": [
       "Ahmed      0.99\n",
       "Ali        1.00\n",
       "Faisal     0.50\n",
       "Hassan     0.45\n",
       "Mehfooz    0.30\n",
       "wajid      0.30\n",
       "dtype: float64"
      ]
     },
     "execution_count": 66,
     "metadata": {},
     "output_type": "execute_result"
    }
   ],
   "source": [
    "def myfunc(marks):\n",
    "    return marks/100\n",
    "\n",
    "new.apply(myfunc)"
   ]
  },
  {
   "cell_type": "code",
   "execution_count": 69,
   "id": "9aadb6ea",
   "metadata": {},
   "outputs": [
    {
     "data": {
      "text/plain": [
       "Ahmed       9900\n",
       "Ali        10000\n",
       "Faisal      5000\n",
       "Hassan      4500\n",
       "Mehfooz     3000\n",
       "wajid       3000\n",
       "dtype: int64"
      ]
     },
     "execution_count": 69,
     "metadata": {},
     "output_type": "execute_result"
    }
   ],
   "source": [
    "new.apply(lambda x:x*100)"
   ]
  },
  {
   "cell_type": "code",
   "execution_count": 70,
   "id": "f0f16358",
   "metadata": {},
   "outputs": [
    {
     "data": {
      "text/plain": [
       "Ahmed      Pass\n",
       "Ali        Pass\n",
       "Faisal     Fail\n",
       "Hassan     Fail\n",
       "Mehfooz    Fail\n",
       "wajid      Fail\n",
       "dtype: object"
      ]
     },
     "execution_count": 70,
     "metadata": {},
     "output_type": "execute_result"
    }
   ],
   "source": [
    "new.apply(lambda x: np.where(x>50, 'Pass', 'Fail'))"
   ]
  },
  {
   "cell_type": "code",
   "execution_count": 71,
   "id": "82824572",
   "metadata": {},
   "outputs": [
    {
     "data": {
      "text/plain": [
       "apples     100\n",
       "oranges    100\n",
       "bananas    100\n",
       "gauvas     100\n",
       "four       100\n",
       "dtype: int64"
      ]
     },
     "execution_count": 71,
     "metadata": {},
     "output_type": "execute_result"
    }
   ],
   "source": [
    "s6 = pd.Series(100, index=s2.index)\n",
    "s6"
   ]
  },
  {
   "cell_type": "code",
   "execution_count": 72,
   "id": "2a55eb99",
   "metadata": {},
   "outputs": [
    {
     "data": {
      "text/plain": [
       "array([ 1.        ,  1.18367347,  1.36734694,  1.55102041,  1.73469388,\n",
       "        1.91836735,  2.10204082,  2.28571429,  2.46938776,  2.65306122,\n",
       "        2.83673469,  3.02040816,  3.20408163,  3.3877551 ,  3.57142857,\n",
       "        3.75510204,  3.93877551,  4.12244898,  4.30612245,  4.48979592,\n",
       "        4.67346939,  4.85714286,  5.04081633,  5.2244898 ,  5.40816327,\n",
       "        5.59183673,  5.7755102 ,  5.95918367,  6.14285714,  6.32653061,\n",
       "        6.51020408,  6.69387755,  6.87755102,  7.06122449,  7.24489796,\n",
       "        7.42857143,  7.6122449 ,  7.79591837,  7.97959184,  8.16326531,\n",
       "        8.34693878,  8.53061224,  8.71428571,  8.89795918,  9.08163265,\n",
       "        9.26530612,  9.44897959,  9.63265306,  9.81632653, 10.        ])"
      ]
     },
     "execution_count": 72,
     "metadata": {},
     "output_type": "execute_result"
    }
   ],
   "source": [
    "np.linspace(1,10,50)"
   ]
  },
  {
   "cell_type": "code",
   "execution_count": 73,
   "id": "4edef010",
   "metadata": {},
   "outputs": [
    {
     "data": {
      "text/plain": [
       "6"
      ]
     },
     "execution_count": 73,
     "metadata": {},
     "output_type": "execute_result"
    }
   ],
   "source": [
    "new.count()"
   ]
  },
  {
   "cell_type": "code",
   "execution_count": 74,
   "id": "819a8594",
   "metadata": {},
   "outputs": [
    {
     "data": {
      "text/plain": [
       "30     2\n",
       "99     1\n",
       "100    1\n",
       "50     1\n",
       "45     1\n",
       "dtype: int64"
      ]
     },
     "execution_count": 74,
     "metadata": {},
     "output_type": "execute_result"
    }
   ],
   "source": [
    "new.value_counts()"
   ]
  },
  {
   "cell_type": "code",
   "execution_count": 83,
   "id": "d6bc3b2b",
   "metadata": {},
   "outputs": [
    {
     "data": {
      "text/plain": [
       "Ahmed      99\n",
       "Mehfooz    30\n",
       "dtype: int64"
      ]
     },
     "execution_count": 83,
     "metadata": {},
     "output_type": "execute_result"
    }
   ],
   "source": [
    "new[['Ahmed','Mehfooz']]"
   ]
  },
  {
   "cell_type": "code",
   "execution_count": 87,
   "id": "f679cfa5",
   "metadata": {},
   "outputs": [
    {
     "data": {
      "text/plain": [
       "0    1.0\n",
       "1    2.0\n",
       "2    3.0\n",
       "3    NaN\n",
       "4    NaN\n",
       "dtype: float64"
      ]
     },
     "execution_count": 87,
     "metadata": {},
     "output_type": "execute_result"
    }
   ],
   "source": [
    "s7 = pd.Series([1,2,3, np.nan, np.nan])\n",
    "s7"
   ]
  },
  {
   "cell_type": "code",
   "execution_count": 88,
   "id": "746f70c2",
   "metadata": {},
   "outputs": [
    {
     "data": {
      "text/plain": [
       "one         1\n",
       "two         2\n",
       "three       3\n",
       "four        4\n",
       "apples     22\n",
       "oranges    33\n",
       "bananas    44\n",
       "gauvas     55\n",
       "four       34\n",
       "dtype: int64"
      ]
     },
     "execution_count": 88,
     "metadata": {},
     "output_type": "execute_result"
    }
   ],
   "source": [
    "combined = pd.concat([s1,s2])\n",
    "combined"
   ]
  },
  {
   "cell_type": "code",
   "execution_count": 89,
   "id": "d8dbd24a",
   "metadata": {},
   "outputs": [
    {
     "data": {
      "text/html": [
       "<div>\n",
       "<style scoped>\n",
       "    .dataframe tbody tr th:only-of-type {\n",
       "        vertical-align: middle;\n",
       "    }\n",
       "\n",
       "    .dataframe tbody tr th {\n",
       "        vertical-align: top;\n",
       "    }\n",
       "\n",
       "    .dataframe thead th {\n",
       "        text-align: right;\n",
       "    }\n",
       "</style>\n",
       "<table border=\"1\" class=\"dataframe\">\n",
       "  <thead>\n",
       "    <tr style=\"text-align: right;\">\n",
       "      <th></th>\n",
       "      <th>index</th>\n",
       "      <th>0</th>\n",
       "    </tr>\n",
       "  </thead>\n",
       "  <tbody>\n",
       "    <tr>\n",
       "      <th>0</th>\n",
       "      <td>one</td>\n",
       "      <td>1</td>\n",
       "    </tr>\n",
       "    <tr>\n",
       "      <th>1</th>\n",
       "      <td>two</td>\n",
       "      <td>2</td>\n",
       "    </tr>\n",
       "    <tr>\n",
       "      <th>2</th>\n",
       "      <td>three</td>\n",
       "      <td>3</td>\n",
       "    </tr>\n",
       "    <tr>\n",
       "      <th>3</th>\n",
       "      <td>four</td>\n",
       "      <td>4</td>\n",
       "    </tr>\n",
       "    <tr>\n",
       "      <th>4</th>\n",
       "      <td>apples</td>\n",
       "      <td>22</td>\n",
       "    </tr>\n",
       "    <tr>\n",
       "      <th>5</th>\n",
       "      <td>oranges</td>\n",
       "      <td>33</td>\n",
       "    </tr>\n",
       "    <tr>\n",
       "      <th>6</th>\n",
       "      <td>bananas</td>\n",
       "      <td>44</td>\n",
       "    </tr>\n",
       "    <tr>\n",
       "      <th>7</th>\n",
       "      <td>gauvas</td>\n",
       "      <td>55</td>\n",
       "    </tr>\n",
       "    <tr>\n",
       "      <th>8</th>\n",
       "      <td>four</td>\n",
       "      <td>34</td>\n",
       "    </tr>\n",
       "  </tbody>\n",
       "</table>\n",
       "</div>"
      ],
      "text/plain": [
       "     index   0\n",
       "0      one   1\n",
       "1      two   2\n",
       "2    three   3\n",
       "3     four   4\n",
       "4   apples  22\n",
       "5  oranges  33\n",
       "6  bananas  44\n",
       "7   gauvas  55\n",
       "8     four  34"
      ]
     },
     "execution_count": 89,
     "metadata": {},
     "output_type": "execute_result"
    }
   ],
   "source": [
    "combined.reset_index()"
   ]
  },
  {
   "cell_type": "code",
   "execution_count": 91,
   "id": "95e76839",
   "metadata": {},
   "outputs": [
    {
     "data": {
      "text/plain": [
       "0     1\n",
       "1     2\n",
       "2     3\n",
       "3     4\n",
       "4    22\n",
       "5    33\n",
       "6    44\n",
       "7    55\n",
       "8    34\n",
       "dtype: int64"
      ]
     },
     "execution_count": 91,
     "metadata": {},
     "output_type": "execute_result"
    }
   ],
   "source": [
    "combined.reset_index(drop=True, inplace=True)\n",
    "combined"
   ]
  },
  {
   "cell_type": "code",
   "execution_count": 98,
   "id": "09228c7b",
   "metadata": {},
   "outputs": [
    {
     "data": {
      "text/plain": [
       "0       1\n",
       "1       2\n",
       "2       3\n",
       "3       4\n",
       "5      33\n",
       "6      44\n",
       "7      55\n",
       "8      34\n",
       "4    2444\n",
       "dtype: int64"
      ]
     },
     "execution_count": 98,
     "metadata": {},
     "output_type": "execute_result"
    }
   ],
   "source": [
    "combined[4] = 2444\n",
    "combined"
   ]
  },
  {
   "cell_type": "code",
   "execution_count": 103,
   "id": "0d8bb40c",
   "metadata": {},
   "outputs": [
    {
     "ename": "TypeError",
     "evalue": "'[1, 3, 5]' is an invalid key",
     "output_type": "error",
     "traceback": [
      "\u001b[1;31m---------------------------------------------------------------------------\u001b[0m",
      "\u001b[1;31mTypeError\u001b[0m                                 Traceback (most recent call last)",
      "\u001b[1;32m~\\AppData\\Local\\Temp/ipykernel_15836/1348006640.py\u001b[0m in \u001b[0;36m<module>\u001b[1;34m\u001b[0m\n\u001b[1;32m----> 1\u001b[1;33m \u001b[1;32mdel\u001b[0m \u001b[0mcombined\u001b[0m\u001b[1;33m[\u001b[0m\u001b[1;33m[\u001b[0m\u001b[1;36m1\u001b[0m\u001b[1;33m,\u001b[0m\u001b[1;36m3\u001b[0m\u001b[1;33m,\u001b[0m\u001b[1;36m5\u001b[0m\u001b[1;33m]\u001b[0m\u001b[1;33m]\u001b[0m\u001b[1;33m\u001b[0m\u001b[1;33m\u001b[0m\u001b[0m\n\u001b[0m",
      "\u001b[1;32m~\\anaconda3\\lib\\site-packages\\pandas\\core\\generic.py\u001b[0m in \u001b[0;36m__delitem__\u001b[1;34m(self, key)\u001b[0m\n\u001b[0;32m   3961\u001b[0m             \u001b[1;31m# there was no match, this call should raise the appropriate\u001b[0m\u001b[1;33m\u001b[0m\u001b[1;33m\u001b[0m\u001b[0m\n\u001b[0;32m   3962\u001b[0m             \u001b[1;31m# exception:\u001b[0m\u001b[1;33m\u001b[0m\u001b[1;33m\u001b[0m\u001b[0m\n\u001b[1;32m-> 3963\u001b[1;33m             \u001b[0mloc\u001b[0m \u001b[1;33m=\u001b[0m \u001b[0mself\u001b[0m\u001b[1;33m.\u001b[0m\u001b[0maxes\u001b[0m\u001b[1;33m[\u001b[0m\u001b[1;33m-\u001b[0m\u001b[1;36m1\u001b[0m\u001b[1;33m]\u001b[0m\u001b[1;33m.\u001b[0m\u001b[0mget_loc\u001b[0m\u001b[1;33m(\u001b[0m\u001b[0mkey\u001b[0m\u001b[1;33m)\u001b[0m\u001b[1;33m\u001b[0m\u001b[1;33m\u001b[0m\u001b[0m\n\u001b[0m\u001b[0;32m   3964\u001b[0m             \u001b[0mself\u001b[0m\u001b[1;33m.\u001b[0m\u001b[0m_mgr\u001b[0m \u001b[1;33m=\u001b[0m \u001b[0mself\u001b[0m\u001b[1;33m.\u001b[0m\u001b[0m_mgr\u001b[0m\u001b[1;33m.\u001b[0m\u001b[0midelete\u001b[0m\u001b[1;33m(\u001b[0m\u001b[0mloc\u001b[0m\u001b[1;33m)\u001b[0m\u001b[1;33m\u001b[0m\u001b[1;33m\u001b[0m\u001b[0m\n\u001b[0;32m   3965\u001b[0m \u001b[1;33m\u001b[0m\u001b[0m\n",
      "\u001b[1;32m~\\anaconda3\\lib\\site-packages\\pandas\\core\\indexes\\base.py\u001b[0m in \u001b[0;36mget_loc\u001b[1;34m(self, key, method, tolerance)\u001b[0m\n\u001b[0;32m   3359\u001b[0m             \u001b[0mcasted_key\u001b[0m \u001b[1;33m=\u001b[0m \u001b[0mself\u001b[0m\u001b[1;33m.\u001b[0m\u001b[0m_maybe_cast_indexer\u001b[0m\u001b[1;33m(\u001b[0m\u001b[0mkey\u001b[0m\u001b[1;33m)\u001b[0m\u001b[1;33m\u001b[0m\u001b[1;33m\u001b[0m\u001b[0m\n\u001b[0;32m   3360\u001b[0m             \u001b[1;32mtry\u001b[0m\u001b[1;33m:\u001b[0m\u001b[1;33m\u001b[0m\u001b[1;33m\u001b[0m\u001b[0m\n\u001b[1;32m-> 3361\u001b[1;33m                 \u001b[1;32mreturn\u001b[0m \u001b[0mself\u001b[0m\u001b[1;33m.\u001b[0m\u001b[0m_engine\u001b[0m\u001b[1;33m.\u001b[0m\u001b[0mget_loc\u001b[0m\u001b[1;33m(\u001b[0m\u001b[0mcasted_key\u001b[0m\u001b[1;33m)\u001b[0m\u001b[1;33m\u001b[0m\u001b[1;33m\u001b[0m\u001b[0m\n\u001b[0m\u001b[0;32m   3362\u001b[0m             \u001b[1;32mexcept\u001b[0m \u001b[0mKeyError\u001b[0m \u001b[1;32mas\u001b[0m \u001b[0merr\u001b[0m\u001b[1;33m:\u001b[0m\u001b[1;33m\u001b[0m\u001b[1;33m\u001b[0m\u001b[0m\n\u001b[0;32m   3363\u001b[0m                 \u001b[1;32mraise\u001b[0m \u001b[0mKeyError\u001b[0m\u001b[1;33m(\u001b[0m\u001b[0mkey\u001b[0m\u001b[1;33m)\u001b[0m \u001b[1;32mfrom\u001b[0m \u001b[0merr\u001b[0m\u001b[1;33m\u001b[0m\u001b[1;33m\u001b[0m\u001b[0m\n",
      "\u001b[1;32m~\\anaconda3\\lib\\site-packages\\pandas\\_libs\\index.pyx\u001b[0m in \u001b[0;36mpandas._libs.index.IndexEngine.get_loc\u001b[1;34m()\u001b[0m\n",
      "\u001b[1;32m~\\anaconda3\\lib\\site-packages\\pandas\\_libs\\index.pyx\u001b[0m in \u001b[0;36mpandas._libs.index.IndexEngine.get_loc\u001b[1;34m()\u001b[0m\n",
      "\u001b[1;31mTypeError\u001b[0m: '[1, 3, 5]' is an invalid key"
     ]
    }
   ],
   "source": [
    "del combined[[1,3,5]]"
   ]
  },
  {
   "cell_type": "code",
   "execution_count": 104,
   "id": "6075a00c",
   "metadata": {},
   "outputs": [
    {
     "data": {
      "text/plain": [
       "0       1\n",
       "1       2\n",
       "2       3\n",
       "3       4\n",
       "5      33\n",
       "6      44\n",
       "7      55\n",
       "8      34\n",
       "4    2444\n",
       "dtype: int64"
      ]
     },
     "execution_count": 104,
     "metadata": {},
     "output_type": "execute_result"
    }
   ],
   "source": [
    "combined"
   ]
  },
  {
   "cell_type": "code",
   "execution_count": 105,
   "id": "96ac36de",
   "metadata": {},
   "outputs": [],
   "source": [
    "newCom = combined.copy()"
   ]
  },
  {
   "cell_type": "code",
   "execution_count": 106,
   "id": "4b00c63b",
   "metadata": {},
   "outputs": [
    {
     "data": {
      "text/plain": [
       "0       1\n",
       "1       2\n",
       "2       3\n",
       "3       4\n",
       "5      33\n",
       "6      44\n",
       "7      55\n",
       "8      34\n",
       "4    2444\n",
       "dtype: int64"
      ]
     },
     "execution_count": 106,
     "metadata": {},
     "output_type": "execute_result"
    }
   ],
   "source": [
    "newCom"
   ]
  },
  {
   "cell_type": "code",
   "execution_count": null,
   "id": "a424a8c8",
   "metadata": {},
   "outputs": [],
   "source": []
  },
  {
   "cell_type": "markdown",
   "id": "c8bba17c",
   "metadata": {},
   "source": [
    "# Pandas Data Frame"
   ]
  },
  {
   "cell_type": "code",
   "execution_count": 152,
   "id": "d9a30fe6",
   "metadata": {},
   "outputs": [],
   "source": [
    "students = {'rolls': [1,2,3,4,5,6],\n",
    "           'names': ['Mehfooz', 'Wajid', 'Moona', 'Sadia','Rauf','Hassan'],\n",
    "            'courses': ['Python', 'Numpy', 'Pandas', 'Numpy','Numpy', 'Numpy'],\n",
    "            'mode': ['Onsite', 'Onsite','Onsite', 'Online','Onsite','Onsite']\n",
    "           }"
   ]
  },
  {
   "cell_type": "code",
   "execution_count": 153,
   "id": "dec5ded6",
   "metadata": {},
   "outputs": [
    {
     "data": {
      "text/plain": [
       "{'rolls': [1, 2, 3, 4, 5, 6],\n",
       " 'names': ['Mehfooz', 'Wajid', 'Moona', 'Sadia', 'Rauf', 'Hassan'],\n",
       " 'courses': ['Python', 'Numpy', 'Pandas', 'Numpy', 'Numpy', 'Numpy'],\n",
       " 'mode': ['Onsite', 'Onsite', 'Onsite', 'Online', 'Onsite', 'Onsite']}"
      ]
     },
     "execution_count": 153,
     "metadata": {},
     "output_type": "execute_result"
    }
   ],
   "source": [
    "students"
   ]
  },
  {
   "cell_type": "code",
   "execution_count": 154,
   "id": "37d0686a",
   "metadata": {},
   "outputs": [
    {
     "data": {
      "text/html": [
       "<div>\n",
       "<style scoped>\n",
       "    .dataframe tbody tr th:only-of-type {\n",
       "        vertical-align: middle;\n",
       "    }\n",
       "\n",
       "    .dataframe tbody tr th {\n",
       "        vertical-align: top;\n",
       "    }\n",
       "\n",
       "    .dataframe thead th {\n",
       "        text-align: right;\n",
       "    }\n",
       "</style>\n",
       "<table border=\"1\" class=\"dataframe\">\n",
       "  <thead>\n",
       "    <tr style=\"text-align: right;\">\n",
       "      <th></th>\n",
       "      <th>rolls</th>\n",
       "      <th>names</th>\n",
       "      <th>courses</th>\n",
       "      <th>mode</th>\n",
       "    </tr>\n",
       "  </thead>\n",
       "  <tbody>\n",
       "    <tr>\n",
       "      <th>0</th>\n",
       "      <td>1</td>\n",
       "      <td>Mehfooz</td>\n",
       "      <td>Python</td>\n",
       "      <td>Onsite</td>\n",
       "    </tr>\n",
       "    <tr>\n",
       "      <th>1</th>\n",
       "      <td>2</td>\n",
       "      <td>Wajid</td>\n",
       "      <td>Numpy</td>\n",
       "      <td>Onsite</td>\n",
       "    </tr>\n",
       "    <tr>\n",
       "      <th>2</th>\n",
       "      <td>3</td>\n",
       "      <td>Moona</td>\n",
       "      <td>Pandas</td>\n",
       "      <td>Onsite</td>\n",
       "    </tr>\n",
       "    <tr>\n",
       "      <th>3</th>\n",
       "      <td>4</td>\n",
       "      <td>Sadia</td>\n",
       "      <td>Numpy</td>\n",
       "      <td>Online</td>\n",
       "    </tr>\n",
       "    <tr>\n",
       "      <th>4</th>\n",
       "      <td>5</td>\n",
       "      <td>Rauf</td>\n",
       "      <td>Numpy</td>\n",
       "      <td>Onsite</td>\n",
       "    </tr>\n",
       "    <tr>\n",
       "      <th>5</th>\n",
       "      <td>6</td>\n",
       "      <td>Hassan</td>\n",
       "      <td>Numpy</td>\n",
       "      <td>Onsite</td>\n",
       "    </tr>\n",
       "  </tbody>\n",
       "</table>\n",
       "</div>"
      ],
      "text/plain": [
       "   rolls    names courses    mode\n",
       "0      1  Mehfooz  Python  Onsite\n",
       "1      2    Wajid   Numpy  Onsite\n",
       "2      3    Moona  Pandas  Onsite\n",
       "3      4    Sadia   Numpy  Online\n",
       "4      5     Rauf   Numpy  Onsite\n",
       "5      6   Hassan   Numpy  Onsite"
      ]
     },
     "execution_count": 154,
     "metadata": {},
     "output_type": "execute_result"
    }
   ],
   "source": [
    "df = pd.DataFrame(students)\n",
    "df\n",
    "\n"
   ]
  },
  {
   "cell_type": "code",
   "execution_count": 155,
   "id": "a7fc5a59",
   "metadata": {},
   "outputs": [
    {
     "data": {
      "text/plain": [
       "0    Mehfooz\n",
       "1      Wajid\n",
       "2      Moona\n",
       "3      Sadia\n",
       "4       Rauf\n",
       "5     Hassan\n",
       "Name: names, dtype: object"
      ]
     },
     "execution_count": 155,
     "metadata": {},
     "output_type": "execute_result"
    }
   ],
   "source": [
    "df['names']"
   ]
  },
  {
   "cell_type": "code",
   "execution_count": 156,
   "id": "49facbde",
   "metadata": {},
   "outputs": [
    {
     "data": {
      "text/plain": [
       "0    Onsite\n",
       "1    Onsite\n",
       "2    Onsite\n",
       "3    Online\n",
       "4    Onsite\n",
       "5    Onsite\n",
       "Name: mode, dtype: object"
      ]
     },
     "execution_count": 156,
     "metadata": {},
     "output_type": "execute_result"
    }
   ],
   "source": [
    "df['mode']\n"
   ]
  },
  {
   "cell_type": "code",
   "execution_count": 157,
   "id": "b89fc5fd",
   "metadata": {},
   "outputs": [
    {
     "data": {
      "text/plain": [
       "[[55, 66, 77], [2, 4, 5], [4, 5, 6]]"
      ]
     },
     "execution_count": 157,
     "metadata": {},
     "output_type": "execute_result"
    }
   ],
   "source": [
    "lst = [[55,66,77],[2,4,5],[4,5,6]]\n",
    "lst"
   ]
  },
  {
   "cell_type": "code",
   "execution_count": 158,
   "id": "b5800899",
   "metadata": {},
   "outputs": [
    {
     "data": {
      "text/html": [
       "<div>\n",
       "<style scoped>\n",
       "    .dataframe tbody tr th:only-of-type {\n",
       "        vertical-align: middle;\n",
       "    }\n",
       "\n",
       "    .dataframe tbody tr th {\n",
       "        vertical-align: top;\n",
       "    }\n",
       "\n",
       "    .dataframe thead th {\n",
       "        text-align: right;\n",
       "    }\n",
       "</style>\n",
       "<table border=\"1\" class=\"dataframe\">\n",
       "  <thead>\n",
       "    <tr style=\"text-align: right;\">\n",
       "      <th></th>\n",
       "      <th>a</th>\n",
       "      <th>b</th>\n",
       "      <th>c</th>\n",
       "    </tr>\n",
       "  </thead>\n",
       "  <tbody>\n",
       "    <tr>\n",
       "      <th>1</th>\n",
       "      <td>55</td>\n",
       "      <td>66</td>\n",
       "      <td>77</td>\n",
       "    </tr>\n",
       "    <tr>\n",
       "      <th>2</th>\n",
       "      <td>2</td>\n",
       "      <td>4</td>\n",
       "      <td>5</td>\n",
       "    </tr>\n",
       "    <tr>\n",
       "      <th>3</th>\n",
       "      <td>4</td>\n",
       "      <td>5</td>\n",
       "      <td>6</td>\n",
       "    </tr>\n",
       "  </tbody>\n",
       "</table>\n",
       "</div>"
      ],
      "text/plain": [
       "    a   b   c\n",
       "1  55  66  77\n",
       "2   2   4   5\n",
       "3   4   5   6"
      ]
     },
     "execution_count": 158,
     "metadata": {},
     "output_type": "execute_result"
    }
   ],
   "source": [
    "df2 = pd.DataFrame(lst, index=[1,2,3], columns=['a','b','c'])\n",
    "df2"
   ]
  },
  {
   "cell_type": "code",
   "execution_count": 159,
   "id": "ee6b7626",
   "metadata": {},
   "outputs": [],
   "source": [
    "df['counry'] = ['Pakistan', 'India', 'Austrailia', 'Japan', 'Indonesia', 'Pakistan']"
   ]
  },
  {
   "cell_type": "code",
   "execution_count": 160,
   "id": "8e6c3ce0",
   "metadata": {},
   "outputs": [
    {
     "data": {
      "text/html": [
       "<div>\n",
       "<style scoped>\n",
       "    .dataframe tbody tr th:only-of-type {\n",
       "        vertical-align: middle;\n",
       "    }\n",
       "\n",
       "    .dataframe tbody tr th {\n",
       "        vertical-align: top;\n",
       "    }\n",
       "\n",
       "    .dataframe thead th {\n",
       "        text-align: right;\n",
       "    }\n",
       "</style>\n",
       "<table border=\"1\" class=\"dataframe\">\n",
       "  <thead>\n",
       "    <tr style=\"text-align: right;\">\n",
       "      <th></th>\n",
       "      <th>rolls</th>\n",
       "      <th>names</th>\n",
       "      <th>courses</th>\n",
       "      <th>mode</th>\n",
       "      <th>counry</th>\n",
       "    </tr>\n",
       "  </thead>\n",
       "  <tbody>\n",
       "    <tr>\n",
       "      <th>0</th>\n",
       "      <td>1</td>\n",
       "      <td>Mehfooz</td>\n",
       "      <td>Python</td>\n",
       "      <td>Onsite</td>\n",
       "      <td>Pakistan</td>\n",
       "    </tr>\n",
       "    <tr>\n",
       "      <th>1</th>\n",
       "      <td>2</td>\n",
       "      <td>Wajid</td>\n",
       "      <td>Numpy</td>\n",
       "      <td>Onsite</td>\n",
       "      <td>India</td>\n",
       "    </tr>\n",
       "    <tr>\n",
       "      <th>2</th>\n",
       "      <td>3</td>\n",
       "      <td>Moona</td>\n",
       "      <td>Pandas</td>\n",
       "      <td>Onsite</td>\n",
       "      <td>Austrailia</td>\n",
       "    </tr>\n",
       "    <tr>\n",
       "      <th>3</th>\n",
       "      <td>4</td>\n",
       "      <td>Sadia</td>\n",
       "      <td>Numpy</td>\n",
       "      <td>Online</td>\n",
       "      <td>Japan</td>\n",
       "    </tr>\n",
       "    <tr>\n",
       "      <th>4</th>\n",
       "      <td>5</td>\n",
       "      <td>Rauf</td>\n",
       "      <td>Numpy</td>\n",
       "      <td>Onsite</td>\n",
       "      <td>Indonesia</td>\n",
       "    </tr>\n",
       "    <tr>\n",
       "      <th>5</th>\n",
       "      <td>6</td>\n",
       "      <td>Hassan</td>\n",
       "      <td>Numpy</td>\n",
       "      <td>Onsite</td>\n",
       "      <td>Pakistan</td>\n",
       "    </tr>\n",
       "  </tbody>\n",
       "</table>\n",
       "</div>"
      ],
      "text/plain": [
       "   rolls    names courses    mode      counry\n",
       "0      1  Mehfooz  Python  Onsite    Pakistan\n",
       "1      2    Wajid   Numpy  Onsite       India\n",
       "2      3    Moona  Pandas  Onsite  Austrailia\n",
       "3      4    Sadia   Numpy  Online       Japan\n",
       "4      5     Rauf   Numpy  Onsite   Indonesia\n",
       "5      6   Hassan   Numpy  Onsite    Pakistan"
      ]
     },
     "execution_count": 160,
     "metadata": {},
     "output_type": "execute_result"
    }
   ],
   "source": [
    "df"
   ]
  },
  {
   "cell_type": "code",
   "execution_count": 161,
   "id": "d2cac6af",
   "metadata": {},
   "outputs": [],
   "source": [
    "df['Ages'] = [23,43,23,54,22,45]"
   ]
  },
  {
   "cell_type": "code",
   "execution_count": 162,
   "id": "88885438",
   "metadata": {},
   "outputs": [
    {
     "data": {
      "text/html": [
       "<div>\n",
       "<style scoped>\n",
       "    .dataframe tbody tr th:only-of-type {\n",
       "        vertical-align: middle;\n",
       "    }\n",
       "\n",
       "    .dataframe tbody tr th {\n",
       "        vertical-align: top;\n",
       "    }\n",
       "\n",
       "    .dataframe thead th {\n",
       "        text-align: right;\n",
       "    }\n",
       "</style>\n",
       "<table border=\"1\" class=\"dataframe\">\n",
       "  <thead>\n",
       "    <tr style=\"text-align: right;\">\n",
       "      <th></th>\n",
       "      <th>rolls</th>\n",
       "      <th>names</th>\n",
       "      <th>courses</th>\n",
       "      <th>mode</th>\n",
       "      <th>counry</th>\n",
       "      <th>Ages</th>\n",
       "    </tr>\n",
       "  </thead>\n",
       "  <tbody>\n",
       "    <tr>\n",
       "      <th>0</th>\n",
       "      <td>1</td>\n",
       "      <td>Mehfooz</td>\n",
       "      <td>Python</td>\n",
       "      <td>Onsite</td>\n",
       "      <td>Pakistan</td>\n",
       "      <td>23</td>\n",
       "    </tr>\n",
       "    <tr>\n",
       "      <th>1</th>\n",
       "      <td>2</td>\n",
       "      <td>Wajid</td>\n",
       "      <td>Numpy</td>\n",
       "      <td>Onsite</td>\n",
       "      <td>India</td>\n",
       "      <td>43</td>\n",
       "    </tr>\n",
       "    <tr>\n",
       "      <th>2</th>\n",
       "      <td>3</td>\n",
       "      <td>Moona</td>\n",
       "      <td>Pandas</td>\n",
       "      <td>Onsite</td>\n",
       "      <td>Austrailia</td>\n",
       "      <td>23</td>\n",
       "    </tr>\n",
       "    <tr>\n",
       "      <th>3</th>\n",
       "      <td>4</td>\n",
       "      <td>Sadia</td>\n",
       "      <td>Numpy</td>\n",
       "      <td>Online</td>\n",
       "      <td>Japan</td>\n",
       "      <td>54</td>\n",
       "    </tr>\n",
       "    <tr>\n",
       "      <th>4</th>\n",
       "      <td>5</td>\n",
       "      <td>Rauf</td>\n",
       "      <td>Numpy</td>\n",
       "      <td>Onsite</td>\n",
       "      <td>Indonesia</td>\n",
       "      <td>22</td>\n",
       "    </tr>\n",
       "    <tr>\n",
       "      <th>5</th>\n",
       "      <td>6</td>\n",
       "      <td>Hassan</td>\n",
       "      <td>Numpy</td>\n",
       "      <td>Onsite</td>\n",
       "      <td>Pakistan</td>\n",
       "      <td>45</td>\n",
       "    </tr>\n",
       "  </tbody>\n",
       "</table>\n",
       "</div>"
      ],
      "text/plain": [
       "   rolls    names courses    mode      counry  Ages\n",
       "0      1  Mehfooz  Python  Onsite    Pakistan    23\n",
       "1      2    Wajid   Numpy  Onsite       India    43\n",
       "2      3    Moona  Pandas  Onsite  Austrailia    23\n",
       "3      4    Sadia   Numpy  Online       Japan    54\n",
       "4      5     Rauf   Numpy  Onsite   Indonesia    22\n",
       "5      6   Hassan   Numpy  Onsite    Pakistan    45"
      ]
     },
     "execution_count": 162,
     "metadata": {},
     "output_type": "execute_result"
    }
   ],
   "source": [
    "df"
   ]
  },
  {
   "cell_type": "code",
   "execution_count": 189,
   "id": "66daa6d5",
   "metadata": {},
   "outputs": [],
   "source": [
    "dic = {'Mehfooz':22, 'Wajid':23, 'Moona':19, 'Sadia':24, 'Rauf':25, 'Hassan':23}"
   ]
  },
  {
   "cell_type": "code",
   "execution_count": 190,
   "id": "376e19a1",
   "metadata": {},
   "outputs": [],
   "source": [
    "#Now Mapping Dictionary with DataFrame\n",
    "df['New Ages'] = df.names.map(dic)"
   ]
  },
  {
   "cell_type": "code",
   "execution_count": 191,
   "id": "fadee515",
   "metadata": {},
   "outputs": [
    {
     "data": {
      "text/html": [
       "<div>\n",
       "<style scoped>\n",
       "    .dataframe tbody tr th:only-of-type {\n",
       "        vertical-align: middle;\n",
       "    }\n",
       "\n",
       "    .dataframe tbody tr th {\n",
       "        vertical-align: top;\n",
       "    }\n",
       "\n",
       "    .dataframe thead th {\n",
       "        text-align: right;\n",
       "    }\n",
       "</style>\n",
       "<table border=\"1\" class=\"dataframe\">\n",
       "  <thead>\n",
       "    <tr style=\"text-align: right;\">\n",
       "      <th></th>\n",
       "      <th>rolls</th>\n",
       "      <th>names</th>\n",
       "      <th>courses</th>\n",
       "      <th>mode</th>\n",
       "      <th>counry</th>\n",
       "      <th>Ages</th>\n",
       "      <th>Status</th>\n",
       "      <th>City</th>\n",
       "      <th>Generation</th>\n",
       "      <th>New Ages</th>\n",
       "    </tr>\n",
       "  </thead>\n",
       "  <tbody>\n",
       "    <tr>\n",
       "      <th>0</th>\n",
       "      <td>1</td>\n",
       "      <td>Mehfooz</td>\n",
       "      <td>Python</td>\n",
       "      <td>Onsite</td>\n",
       "      <td>Pakistan</td>\n",
       "      <td>23</td>\n",
       "      <td>Fail</td>\n",
       "      <td>Karachi</td>\n",
       "      <td>Young</td>\n",
       "      <td>22</td>\n",
       "    </tr>\n",
       "    <tr>\n",
       "      <th>1</th>\n",
       "      <td>2</td>\n",
       "      <td>Wajid</td>\n",
       "      <td>Numpy</td>\n",
       "      <td>Onsite</td>\n",
       "      <td>India</td>\n",
       "      <td>43</td>\n",
       "      <td>Pass</td>\n",
       "      <td>Karachi</td>\n",
       "      <td>Mature Man</td>\n",
       "      <td>23</td>\n",
       "    </tr>\n",
       "    <tr>\n",
       "      <th>2</th>\n",
       "      <td>3</td>\n",
       "      <td>Moona</td>\n",
       "      <td>Pandas</td>\n",
       "      <td>Onsite</td>\n",
       "      <td>Austrailia</td>\n",
       "      <td>23</td>\n",
       "      <td>Fail</td>\n",
       "      <td>Karachi</td>\n",
       "      <td>Young</td>\n",
       "      <td>19</td>\n",
       "    </tr>\n",
       "    <tr>\n",
       "      <th>3</th>\n",
       "      <td>4</td>\n",
       "      <td>Sadia</td>\n",
       "      <td>Numpy</td>\n",
       "      <td>Online</td>\n",
       "      <td>Japan</td>\n",
       "      <td>54</td>\n",
       "      <td>Pass</td>\n",
       "      <td>Out of Karachi</td>\n",
       "      <td>Mature Man</td>\n",
       "      <td>24</td>\n",
       "    </tr>\n",
       "    <tr>\n",
       "      <th>4</th>\n",
       "      <td>5</td>\n",
       "      <td>Rauf</td>\n",
       "      <td>Numpy</td>\n",
       "      <td>Onsite</td>\n",
       "      <td>Indonesia</td>\n",
       "      <td>22</td>\n",
       "      <td>Fail</td>\n",
       "      <td>Karachi</td>\n",
       "      <td>Young</td>\n",
       "      <td>25</td>\n",
       "    </tr>\n",
       "    <tr>\n",
       "      <th>5</th>\n",
       "      <td>6</td>\n",
       "      <td>Hassan</td>\n",
       "      <td>Numpy</td>\n",
       "      <td>Onsite</td>\n",
       "      <td>Pakistan</td>\n",
       "      <td>45</td>\n",
       "      <td>Pass</td>\n",
       "      <td>Karachi</td>\n",
       "      <td>Mature Man</td>\n",
       "      <td>23</td>\n",
       "    </tr>\n",
       "  </tbody>\n",
       "</table>\n",
       "</div>"
      ],
      "text/plain": [
       "   rolls    names courses    mode      counry  Ages Status            City  \\\n",
       "0      1  Mehfooz  Python  Onsite    Pakistan    23   Fail         Karachi   \n",
       "1      2    Wajid   Numpy  Onsite       India    43   Pass         Karachi   \n",
       "2      3    Moona  Pandas  Onsite  Austrailia    23   Fail         Karachi   \n",
       "3      4    Sadia   Numpy  Online       Japan    54   Pass  Out of Karachi   \n",
       "4      5     Rauf   Numpy  Onsite   Indonesia    22   Fail         Karachi   \n",
       "5      6   Hassan   Numpy  Onsite    Pakistan    45   Pass         Karachi   \n",
       "\n",
       "   Generation  New Ages  \n",
       "0       Young        22  \n",
       "1  Mature Man        23  \n",
       "2       Young        19  \n",
       "3  Mature Man        24  \n",
       "4       Young        25  \n",
       "5  Mature Man        23  "
      ]
     },
     "execution_count": 191,
     "metadata": {},
     "output_type": "execute_result"
    }
   ],
   "source": [
    "df"
   ]
  },
  {
   "cell_type": "code",
   "execution_count": null,
   "id": "c52e59df",
   "metadata": {},
   "outputs": [],
   "source": []
  },
  {
   "cell_type": "code",
   "execution_count": 192,
   "id": "81117a1b",
   "metadata": {},
   "outputs": [],
   "source": [
    "df['Status'] = ['Pass' if age>25 else 'Fail' for age in df['Ages']]"
   ]
  },
  {
   "cell_type": "code",
   "execution_count": 193,
   "id": "16cb9543",
   "metadata": {},
   "outputs": [
    {
     "data": {
      "text/html": [
       "<div>\n",
       "<style scoped>\n",
       "    .dataframe tbody tr th:only-of-type {\n",
       "        vertical-align: middle;\n",
       "    }\n",
       "\n",
       "    .dataframe tbody tr th {\n",
       "        vertical-align: top;\n",
       "    }\n",
       "\n",
       "    .dataframe thead th {\n",
       "        text-align: right;\n",
       "    }\n",
       "</style>\n",
       "<table border=\"1\" class=\"dataframe\">\n",
       "  <thead>\n",
       "    <tr style=\"text-align: right;\">\n",
       "      <th></th>\n",
       "      <th>rolls</th>\n",
       "      <th>names</th>\n",
       "      <th>courses</th>\n",
       "      <th>mode</th>\n",
       "      <th>counry</th>\n",
       "      <th>Ages</th>\n",
       "      <th>Status</th>\n",
       "      <th>City</th>\n",
       "      <th>Generation</th>\n",
       "      <th>New Ages</th>\n",
       "    </tr>\n",
       "  </thead>\n",
       "  <tbody>\n",
       "    <tr>\n",
       "      <th>0</th>\n",
       "      <td>1</td>\n",
       "      <td>Mehfooz</td>\n",
       "      <td>Python</td>\n",
       "      <td>Onsite</td>\n",
       "      <td>Pakistan</td>\n",
       "      <td>23</td>\n",
       "      <td>Fail</td>\n",
       "      <td>Karachi</td>\n",
       "      <td>Young</td>\n",
       "      <td>22</td>\n",
       "    </tr>\n",
       "    <tr>\n",
       "      <th>1</th>\n",
       "      <td>2</td>\n",
       "      <td>Wajid</td>\n",
       "      <td>Numpy</td>\n",
       "      <td>Onsite</td>\n",
       "      <td>India</td>\n",
       "      <td>43</td>\n",
       "      <td>Pass</td>\n",
       "      <td>Karachi</td>\n",
       "      <td>Mature Man</td>\n",
       "      <td>23</td>\n",
       "    </tr>\n",
       "    <tr>\n",
       "      <th>2</th>\n",
       "      <td>3</td>\n",
       "      <td>Moona</td>\n",
       "      <td>Pandas</td>\n",
       "      <td>Onsite</td>\n",
       "      <td>Austrailia</td>\n",
       "      <td>23</td>\n",
       "      <td>Fail</td>\n",
       "      <td>Karachi</td>\n",
       "      <td>Young</td>\n",
       "      <td>19</td>\n",
       "    </tr>\n",
       "    <tr>\n",
       "      <th>3</th>\n",
       "      <td>4</td>\n",
       "      <td>Sadia</td>\n",
       "      <td>Numpy</td>\n",
       "      <td>Online</td>\n",
       "      <td>Japan</td>\n",
       "      <td>54</td>\n",
       "      <td>Pass</td>\n",
       "      <td>Out of Karachi</td>\n",
       "      <td>Mature Man</td>\n",
       "      <td>24</td>\n",
       "    </tr>\n",
       "    <tr>\n",
       "      <th>4</th>\n",
       "      <td>5</td>\n",
       "      <td>Rauf</td>\n",
       "      <td>Numpy</td>\n",
       "      <td>Onsite</td>\n",
       "      <td>Indonesia</td>\n",
       "      <td>22</td>\n",
       "      <td>Fail</td>\n",
       "      <td>Karachi</td>\n",
       "      <td>Young</td>\n",
       "      <td>25</td>\n",
       "    </tr>\n",
       "    <tr>\n",
       "      <th>5</th>\n",
       "      <td>6</td>\n",
       "      <td>Hassan</td>\n",
       "      <td>Numpy</td>\n",
       "      <td>Onsite</td>\n",
       "      <td>Pakistan</td>\n",
       "      <td>45</td>\n",
       "      <td>Pass</td>\n",
       "      <td>Karachi</td>\n",
       "      <td>Mature Man</td>\n",
       "      <td>23</td>\n",
       "    </tr>\n",
       "  </tbody>\n",
       "</table>\n",
       "</div>"
      ],
      "text/plain": [
       "   rolls    names courses    mode      counry  Ages Status            City  \\\n",
       "0      1  Mehfooz  Python  Onsite    Pakistan    23   Fail         Karachi   \n",
       "1      2    Wajid   Numpy  Onsite       India    43   Pass         Karachi   \n",
       "2      3    Moona  Pandas  Onsite  Austrailia    23   Fail         Karachi   \n",
       "3      4    Sadia   Numpy  Online       Japan    54   Pass  Out of Karachi   \n",
       "4      5     Rauf   Numpy  Onsite   Indonesia    22   Fail         Karachi   \n",
       "5      6   Hassan   Numpy  Onsite    Pakistan    45   Pass         Karachi   \n",
       "\n",
       "   Generation  New Ages  \n",
       "0       Young        22  \n",
       "1  Mature Man        23  \n",
       "2       Young        19  \n",
       "3  Mature Man        24  \n",
       "4       Young        25  \n",
       "5  Mature Man        23  "
      ]
     },
     "execution_count": 193,
     "metadata": {},
     "output_type": "execute_result"
    }
   ],
   "source": [
    "df"
   ]
  },
  {
   "cell_type": "code",
   "execution_count": 194,
   "id": "e490cf2e",
   "metadata": {},
   "outputs": [],
   "source": [
    "df['City'] = df['mode'].apply(lambda x : 'Karachi' if x=='Onsite' else 'Out of Karachi')"
   ]
  },
  {
   "cell_type": "code",
   "execution_count": 195,
   "id": "5e58d56f",
   "metadata": {},
   "outputs": [
    {
     "data": {
      "text/html": [
       "<div>\n",
       "<style scoped>\n",
       "    .dataframe tbody tr th:only-of-type {\n",
       "        vertical-align: middle;\n",
       "    }\n",
       "\n",
       "    .dataframe tbody tr th {\n",
       "        vertical-align: top;\n",
       "    }\n",
       "\n",
       "    .dataframe thead th {\n",
       "        text-align: right;\n",
       "    }\n",
       "</style>\n",
       "<table border=\"1\" class=\"dataframe\">\n",
       "  <thead>\n",
       "    <tr style=\"text-align: right;\">\n",
       "      <th></th>\n",
       "      <th>rolls</th>\n",
       "      <th>names</th>\n",
       "      <th>courses</th>\n",
       "      <th>mode</th>\n",
       "      <th>counry</th>\n",
       "      <th>Ages</th>\n",
       "      <th>Status</th>\n",
       "      <th>City</th>\n",
       "      <th>Generation</th>\n",
       "      <th>New Ages</th>\n",
       "    </tr>\n",
       "  </thead>\n",
       "  <tbody>\n",
       "    <tr>\n",
       "      <th>0</th>\n",
       "      <td>1</td>\n",
       "      <td>Mehfooz</td>\n",
       "      <td>Python</td>\n",
       "      <td>Onsite</td>\n",
       "      <td>Pakistan</td>\n",
       "      <td>23</td>\n",
       "      <td>Fail</td>\n",
       "      <td>Karachi</td>\n",
       "      <td>Young</td>\n",
       "      <td>22</td>\n",
       "    </tr>\n",
       "    <tr>\n",
       "      <th>1</th>\n",
       "      <td>2</td>\n",
       "      <td>Wajid</td>\n",
       "      <td>Numpy</td>\n",
       "      <td>Onsite</td>\n",
       "      <td>India</td>\n",
       "      <td>43</td>\n",
       "      <td>Pass</td>\n",
       "      <td>Karachi</td>\n",
       "      <td>Mature Man</td>\n",
       "      <td>23</td>\n",
       "    </tr>\n",
       "    <tr>\n",
       "      <th>2</th>\n",
       "      <td>3</td>\n",
       "      <td>Moona</td>\n",
       "      <td>Pandas</td>\n",
       "      <td>Onsite</td>\n",
       "      <td>Austrailia</td>\n",
       "      <td>23</td>\n",
       "      <td>Fail</td>\n",
       "      <td>Karachi</td>\n",
       "      <td>Young</td>\n",
       "      <td>19</td>\n",
       "    </tr>\n",
       "    <tr>\n",
       "      <th>3</th>\n",
       "      <td>4</td>\n",
       "      <td>Sadia</td>\n",
       "      <td>Numpy</td>\n",
       "      <td>Online</td>\n",
       "      <td>Japan</td>\n",
       "      <td>54</td>\n",
       "      <td>Pass</td>\n",
       "      <td>Out of Karachi</td>\n",
       "      <td>Mature Man</td>\n",
       "      <td>24</td>\n",
       "    </tr>\n",
       "    <tr>\n",
       "      <th>4</th>\n",
       "      <td>5</td>\n",
       "      <td>Rauf</td>\n",
       "      <td>Numpy</td>\n",
       "      <td>Onsite</td>\n",
       "      <td>Indonesia</td>\n",
       "      <td>22</td>\n",
       "      <td>Fail</td>\n",
       "      <td>Karachi</td>\n",
       "      <td>Young</td>\n",
       "      <td>25</td>\n",
       "    </tr>\n",
       "    <tr>\n",
       "      <th>5</th>\n",
       "      <td>6</td>\n",
       "      <td>Hassan</td>\n",
       "      <td>Numpy</td>\n",
       "      <td>Onsite</td>\n",
       "      <td>Pakistan</td>\n",
       "      <td>45</td>\n",
       "      <td>Pass</td>\n",
       "      <td>Karachi</td>\n",
       "      <td>Mature Man</td>\n",
       "      <td>23</td>\n",
       "    </tr>\n",
       "  </tbody>\n",
       "</table>\n",
       "</div>"
      ],
      "text/plain": [
       "   rolls    names courses    mode      counry  Ages Status            City  \\\n",
       "0      1  Mehfooz  Python  Onsite    Pakistan    23   Fail         Karachi   \n",
       "1      2    Wajid   Numpy  Onsite       India    43   Pass         Karachi   \n",
       "2      3    Moona  Pandas  Onsite  Austrailia    23   Fail         Karachi   \n",
       "3      4    Sadia   Numpy  Online       Japan    54   Pass  Out of Karachi   \n",
       "4      5     Rauf   Numpy  Onsite   Indonesia    22   Fail         Karachi   \n",
       "5      6   Hassan   Numpy  Onsite    Pakistan    45   Pass         Karachi   \n",
       "\n",
       "   Generation  New Ages  \n",
       "0       Young        22  \n",
       "1  Mature Man        23  \n",
       "2       Young        19  \n",
       "3  Mature Man        24  \n",
       "4       Young        25  \n",
       "5  Mature Man        23  "
      ]
     },
     "execution_count": 195,
     "metadata": {},
     "output_type": "execute_result"
    }
   ],
   "source": [
    "df"
   ]
  },
  {
   "cell_type": "code",
   "execution_count": 196,
   "id": "91c3fe80",
   "metadata": {},
   "outputs": [],
   "source": [
    "def generationAssign(age):\n",
    "    if age < 20:\n",
    "        return 'Teen Ager'\n",
    "    elif age<40:\n",
    "        return 'Young'\n",
    "    elif age<60:\n",
    "        return 'Mature Man'\n",
    "    else:\n",
    "        return 'Senior'"
   ]
  },
  {
   "cell_type": "code",
   "execution_count": 197,
   "id": "253d38ca",
   "metadata": {},
   "outputs": [],
   "source": [
    "df['Generation'] = df['New Ages'].apply(generationAssign)\n",
    "# df['Generation'] = df.Ages.apply(generationAssign)"
   ]
  },
  {
   "cell_type": "code",
   "execution_count": 198,
   "id": "9a28b92a",
   "metadata": {},
   "outputs": [
    {
     "data": {
      "text/html": [
       "<div>\n",
       "<style scoped>\n",
       "    .dataframe tbody tr th:only-of-type {\n",
       "        vertical-align: middle;\n",
       "    }\n",
       "\n",
       "    .dataframe tbody tr th {\n",
       "        vertical-align: top;\n",
       "    }\n",
       "\n",
       "    .dataframe thead th {\n",
       "        text-align: right;\n",
       "    }\n",
       "</style>\n",
       "<table border=\"1\" class=\"dataframe\">\n",
       "  <thead>\n",
       "    <tr style=\"text-align: right;\">\n",
       "      <th></th>\n",
       "      <th>rolls</th>\n",
       "      <th>names</th>\n",
       "      <th>courses</th>\n",
       "      <th>mode</th>\n",
       "      <th>counry</th>\n",
       "      <th>Ages</th>\n",
       "      <th>Status</th>\n",
       "      <th>City</th>\n",
       "      <th>Generation</th>\n",
       "      <th>New Ages</th>\n",
       "    </tr>\n",
       "  </thead>\n",
       "  <tbody>\n",
       "    <tr>\n",
       "      <th>0</th>\n",
       "      <td>1</td>\n",
       "      <td>Mehfooz</td>\n",
       "      <td>Python</td>\n",
       "      <td>Onsite</td>\n",
       "      <td>Pakistan</td>\n",
       "      <td>23</td>\n",
       "      <td>Fail</td>\n",
       "      <td>Karachi</td>\n",
       "      <td>Young</td>\n",
       "      <td>22</td>\n",
       "    </tr>\n",
       "    <tr>\n",
       "      <th>1</th>\n",
       "      <td>2</td>\n",
       "      <td>Wajid</td>\n",
       "      <td>Numpy</td>\n",
       "      <td>Onsite</td>\n",
       "      <td>India</td>\n",
       "      <td>43</td>\n",
       "      <td>Pass</td>\n",
       "      <td>Karachi</td>\n",
       "      <td>Young</td>\n",
       "      <td>23</td>\n",
       "    </tr>\n",
       "    <tr>\n",
       "      <th>2</th>\n",
       "      <td>3</td>\n",
       "      <td>Moona</td>\n",
       "      <td>Pandas</td>\n",
       "      <td>Onsite</td>\n",
       "      <td>Austrailia</td>\n",
       "      <td>23</td>\n",
       "      <td>Fail</td>\n",
       "      <td>Karachi</td>\n",
       "      <td>Teen Ager</td>\n",
       "      <td>19</td>\n",
       "    </tr>\n",
       "    <tr>\n",
       "      <th>3</th>\n",
       "      <td>4</td>\n",
       "      <td>Sadia</td>\n",
       "      <td>Numpy</td>\n",
       "      <td>Online</td>\n",
       "      <td>Japan</td>\n",
       "      <td>54</td>\n",
       "      <td>Pass</td>\n",
       "      <td>Out of Karachi</td>\n",
       "      <td>Young</td>\n",
       "      <td>24</td>\n",
       "    </tr>\n",
       "    <tr>\n",
       "      <th>4</th>\n",
       "      <td>5</td>\n",
       "      <td>Rauf</td>\n",
       "      <td>Numpy</td>\n",
       "      <td>Onsite</td>\n",
       "      <td>Indonesia</td>\n",
       "      <td>22</td>\n",
       "      <td>Fail</td>\n",
       "      <td>Karachi</td>\n",
       "      <td>Young</td>\n",
       "      <td>25</td>\n",
       "    </tr>\n",
       "    <tr>\n",
       "      <th>5</th>\n",
       "      <td>6</td>\n",
       "      <td>Hassan</td>\n",
       "      <td>Numpy</td>\n",
       "      <td>Onsite</td>\n",
       "      <td>Pakistan</td>\n",
       "      <td>45</td>\n",
       "      <td>Pass</td>\n",
       "      <td>Karachi</td>\n",
       "      <td>Young</td>\n",
       "      <td>23</td>\n",
       "    </tr>\n",
       "  </tbody>\n",
       "</table>\n",
       "</div>"
      ],
      "text/plain": [
       "   rolls    names courses    mode      counry  Ages Status            City  \\\n",
       "0      1  Mehfooz  Python  Onsite    Pakistan    23   Fail         Karachi   \n",
       "1      2    Wajid   Numpy  Onsite       India    43   Pass         Karachi   \n",
       "2      3    Moona  Pandas  Onsite  Austrailia    23   Fail         Karachi   \n",
       "3      4    Sadia   Numpy  Online       Japan    54   Pass  Out of Karachi   \n",
       "4      5     Rauf   Numpy  Onsite   Indonesia    22   Fail         Karachi   \n",
       "5      6   Hassan   Numpy  Onsite    Pakistan    45   Pass         Karachi   \n",
       "\n",
       "  Generation  New Ages  \n",
       "0      Young        22  \n",
       "1      Young        23  \n",
       "2  Teen Ager        19  \n",
       "3      Young        24  \n",
       "4      Young        25  \n",
       "5      Young        23  "
      ]
     },
     "execution_count": 198,
     "metadata": {},
     "output_type": "execute_result"
    }
   ],
   "source": [
    "df"
   ]
  },
  {
   "cell_type": "code",
   "execution_count": 177,
   "id": "b7f99a50",
   "metadata": {},
   "outputs": [
    {
     "data": {
      "text/html": [
       "<div>\n",
       "<style scoped>\n",
       "    .dataframe tbody tr th:only-of-type {\n",
       "        vertical-align: middle;\n",
       "    }\n",
       "\n",
       "    .dataframe tbody tr th {\n",
       "        vertical-align: top;\n",
       "    }\n",
       "\n",
       "    .dataframe thead th {\n",
       "        text-align: right;\n",
       "    }\n",
       "</style>\n",
       "<table border=\"1\" class=\"dataframe\">\n",
       "  <thead>\n",
       "    <tr style=\"text-align: right;\">\n",
       "      <th></th>\n",
       "      <th>rolls</th>\n",
       "      <th>names</th>\n",
       "      <th>courses</th>\n",
       "      <th>mode</th>\n",
       "      <th>counry</th>\n",
       "      <th>Ages</th>\n",
       "      <th>Status</th>\n",
       "      <th>City</th>\n",
       "      <th>Generation</th>\n",
       "    </tr>\n",
       "  </thead>\n",
       "  <tbody>\n",
       "    <tr>\n",
       "      <th>0</th>\n",
       "      <td>1</td>\n",
       "      <td>Mehfooz</td>\n",
       "      <td>Python</td>\n",
       "      <td>Onsite</td>\n",
       "      <td>Pakistan</td>\n",
       "      <td>23</td>\n",
       "      <td>Fail</td>\n",
       "      <td>Karachi</td>\n",
       "      <td>Young</td>\n",
       "    </tr>\n",
       "    <tr>\n",
       "      <th>1</th>\n",
       "      <td>2</td>\n",
       "      <td>Wajid</td>\n",
       "      <td>Numpy</td>\n",
       "      <td>Onsite</td>\n",
       "      <td>India</td>\n",
       "      <td>43</td>\n",
       "      <td>Pass</td>\n",
       "      <td>Karachi</td>\n",
       "      <td>Mature Man</td>\n",
       "    </tr>\n",
       "    <tr>\n",
       "      <th>2</th>\n",
       "      <td>3</td>\n",
       "      <td>Moona</td>\n",
       "      <td>Pandas</td>\n",
       "      <td>Onsite</td>\n",
       "      <td>Austrailia</td>\n",
       "      <td>23</td>\n",
       "      <td>Fail</td>\n",
       "      <td>Karachi</td>\n",
       "      <td>Young</td>\n",
       "    </tr>\n",
       "    <tr>\n",
       "      <th>3</th>\n",
       "      <td>4</td>\n",
       "      <td>Sadia</td>\n",
       "      <td>Numpy</td>\n",
       "      <td>Online</td>\n",
       "      <td>Japan</td>\n",
       "      <td>54</td>\n",
       "      <td>Pass</td>\n",
       "      <td>Out of Karachi</td>\n",
       "      <td>Mature Man</td>\n",
       "    </tr>\n",
       "    <tr>\n",
       "      <th>4</th>\n",
       "      <td>5</td>\n",
       "      <td>Rauf</td>\n",
       "      <td>Numpy</td>\n",
       "      <td>Onsite</td>\n",
       "      <td>Indonesia</td>\n",
       "      <td>22</td>\n",
       "      <td>Fail</td>\n",
       "      <td>Karachi</td>\n",
       "      <td>Young</td>\n",
       "    </tr>\n",
       "    <tr>\n",
       "      <th>5</th>\n",
       "      <td>6</td>\n",
       "      <td>Hassan</td>\n",
       "      <td>Numpy</td>\n",
       "      <td>Onsite</td>\n",
       "      <td>Pakistan</td>\n",
       "      <td>45</td>\n",
       "      <td>Pass</td>\n",
       "      <td>Karachi</td>\n",
       "      <td>Mature Man</td>\n",
       "    </tr>\n",
       "  </tbody>\n",
       "</table>\n",
       "</div>"
      ],
      "text/plain": [
       "   rolls    names courses    mode      counry  Ages Status            City  \\\n",
       "0      1  Mehfooz  Python  Onsite    Pakistan    23   Fail         Karachi   \n",
       "1      2    Wajid   Numpy  Onsite       India    43   Pass         Karachi   \n",
       "2      3    Moona  Pandas  Onsite  Austrailia    23   Fail         Karachi   \n",
       "3      4    Sadia   Numpy  Online       Japan    54   Pass  Out of Karachi   \n",
       "4      5     Rauf   Numpy  Onsite   Indonesia    22   Fail         Karachi   \n",
       "5      6   Hassan   Numpy  Onsite    Pakistan    45   Pass         Karachi   \n",
       "\n",
       "   Generation  \n",
       "0       Young  \n",
       "1  Mature Man  \n",
       "2       Young  \n",
       "3  Mature Man  \n",
       "4       Young  \n",
       "5  Mature Man  "
      ]
     },
     "execution_count": 177,
     "metadata": {},
     "output_type": "execute_result"
    }
   ],
   "source": [
    "df"
   ]
  },
  {
   "cell_type": "code",
   "execution_count": null,
   "id": "b914e0cf",
   "metadata": {},
   "outputs": [],
   "source": []
  }
 ],
 "metadata": {
  "kernelspec": {
   "display_name": "Python 3 (ipykernel)",
   "language": "python",
   "name": "python3"
  },
  "language_info": {
   "codemirror_mode": {
    "name": "ipython",
    "version": 3
   },
   "file_extension": ".py",
   "mimetype": "text/x-python",
   "name": "python",
   "nbconvert_exporter": "python",
   "pygments_lexer": "ipython3",
   "version": "3.9.7"
  }
 },
 "nbformat": 4,
 "nbformat_minor": 5
}
